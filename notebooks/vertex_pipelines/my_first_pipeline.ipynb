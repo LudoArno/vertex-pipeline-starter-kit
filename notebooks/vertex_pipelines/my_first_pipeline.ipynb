{
 "cells": [
  {
   "cell_type": "markdown",
   "id": "8f1827d0-08fc-4595-a772-ba672b4f9c47",
   "metadata": {},
   "source": [
    "This notebook is an example of how to break down a process into functions ready to be inserted into components. See Documentation for more information on this process\n",
    "\n",
    "* This notebooks showcases a very simple ETL, loading a table in BQ, adding column with a constant value and saving the table in BQ.\n",
    "* Each step of the notebook (Load data, Transform data, Save data) is the equivalent of a component in a vertex pipelines. \n",
    "* The functions imported from vertex.lib  are the same than the ones used in vertex.\n"
   ]
  },
  {
   "cell_type": "markdown",
   "id": "c66461cb-f32c-43bd-9a1f-0f99c91e6e6d",
   "metadata": {},
   "source": [
    "# 0.Imports & Parameters"
   ]
  },
  {
   "cell_type": "code",
   "execution_count": null,
   "id": "ac5aebfe-1558-4e34-a609-d1945cd62fb6",
   "metadata": {
    "tags": []
   },
   "outputs": [],
   "source": [
    "import sys \n",
    "import os\n",
    "\n",
    "sys.path.append(\"../..\")\n",
    "\n",
    "from vertex.lib.connectors.bigquery import load_data_bq, save_data_bq\n",
    "from vertex.lib.processors.transform_data import add_constant_column\n",
    "from vertex.lib.utils.config import load_config"
   ]
  },
  {
   "cell_type": "code",
   "execution_count": null,
   "id": "8449d7d7-b0b2-4f50-9b63-85f3aeaa966f",
   "metadata": {
    "tags": []
   },
   "outputs": [],
   "source": [
    "PROJECT_ID = \"vertex-template-264a\""
   ]
  },
  {
   "cell_type": "code",
   "execution_count": null,
   "id": "a9c1eff8-468b-4709-82ab-e5661bfcda0b",
   "metadata": {
    "tags": []
   },
   "outputs": [],
   "source": [
    "GCP_REGION = \"europe-west1\""
   ]
  },
  {
   "cell_type": "code",
   "execution_count": null,
   "id": "f0d67f48-4342-438c-aa55-0236ec0d2ef1",
   "metadata": {
    "tags": []
   },
   "outputs": [],
   "source": [
    "SELECTED_CONFIGURATION = load_config(\"my_first_pipeline\", \"conf_1\")"
   ]
  },
  {
   "cell_type": "code",
   "execution_count": null,
   "id": "f7554a04-50f8-4bba-b026-83444aafca2b",
   "metadata": {
    "tags": []
   },
   "outputs": [],
   "source": [
    "SELECTED_CONFIGURATION"
   ]
  },
  {
   "cell_type": "code",
   "execution_count": null,
   "id": "965bf422-db28-4511-9295-b794532a5f70",
   "metadata": {
    "tags": []
   },
   "outputs": [],
   "source": [
    "INPUT_TABLE = SELECTED_CONFIGURATION[\"INPUT_TABLE\"]\n",
    "OUTPUT_TABLE = SELECTED_CONFIGURATION[\"OUTPUT_TABLE\"]\n",
    "NEW_COLUMN_NAME = SELECTED_CONFIGURATION[\"NEW_COLUMN_NAME\"]\n",
    "NEW_COLUMN_VALUE = SELECTED_CONFIGURATION[\"NEW_COLUMN_VALUE\"]"
   ]
  },
  {
   "cell_type": "markdown",
   "id": "c8560b32-63fa-47c8-aa2c-092c13ec2a85",
   "metadata": {},
   "source": [
    "# 1. Load data "
   ]
  },
  {
   "cell_type": "markdown",
   "id": "33352ad2-6d38-43f6-aaba-77dfff76c1ec",
   "metadata": {},
   "source": [
    "Loading table from BQ INPUT_TABLE"
   ]
  },
  {
   "cell_type": "code",
   "execution_count": null,
   "id": "15d8487d-f1f0-4d18-b86c-39839308a713",
   "metadata": {
    "tags": []
   },
   "outputs": [],
   "source": [
    "df = load_data_bq(PROJECT_ID, GCP_REGION, INPUT_TABLE)"
   ]
  },
  {
   "cell_type": "code",
   "execution_count": null,
   "id": "dd88877c-3783-44b3-b896-2dba343a56f7",
   "metadata": {
    "tags": []
   },
   "outputs": [],
   "source": [
    "df.head()"
   ]
  },
  {
   "cell_type": "markdown",
   "id": "a5cfb2a2-606c-4405-afaa-52729f7a9a73",
   "metadata": {},
   "source": [
    "# 2. Transform data "
   ]
  },
  {
   "cell_type": "markdown",
   "id": "9b8afb2e-e700-4612-95d5-4298a70b8345",
   "metadata": {},
   "source": [
    "Adding a column with constant value "
   ]
  },
  {
   "cell_type": "code",
   "execution_count": null,
   "id": "c6da9a5f-e4ae-446f-9fe0-9a258ca7d8b2",
   "metadata": {
    "tags": []
   },
   "outputs": [],
   "source": [
    "df_transformed = add_constant_column(df, NEW_COLUMN_NAME, NEW_COLUMN_VALUE)  "
   ]
  },
  {
   "cell_type": "code",
   "execution_count": null,
   "id": "5588eb6a-7808-4b59-be12-22691a420a1d",
   "metadata": {
    "tags": []
   },
   "outputs": [],
   "source": [
    "df_transformed.head()"
   ]
  },
  {
   "cell_type": "markdown",
   "id": "fd9bbc5d-fb66-4cfc-9fea-4336b559f93d",
   "metadata": {},
   "source": [
    "# 3. Save data "
   ]
  },
  {
   "cell_type": "markdown",
   "id": "3cfd1c37-df72-4956-b547-c9a9cfc89dfa",
   "metadata": {},
   "source": [
    "Saving data in BQ OUPUT_TABLE"
   ]
  },
  {
   "cell_type": "code",
   "execution_count": null,
   "id": "006066d9-c3c7-4bb6-822c-190d8e68c589",
   "metadata": {
    "tags": []
   },
   "outputs": [],
   "source": [
    "save_data_bq(df_transformed, PROJECT_ID, OUTPUT_TABLE)"
   ]
  },
  {
   "cell_type": "code",
   "execution_count": null,
   "id": "e3f1d678-b1ee-4d95-909d-f04ac1d9e991",
   "metadata": {},
   "outputs": [],
   "source": []
  }
 ],
 "metadata": {
  "kernelspec": {
   "display_name": "vertex_starter_kit_env",
   "language": "python",
   "name": "vertex_starter_kit_env"
  },
  "language_info": {
   "codemirror_mode": {
    "name": "ipython",
    "version": 3
   },
   "file_extension": ".py",
   "mimetype": "text/x-python",
   "name": "python",
   "nbconvert_exporter": "python",
   "pygments_lexer": "ipython3",
   "version": "3.9.6"
  }
 },
 "nbformat": 4,
 "nbformat_minor": 5
}
