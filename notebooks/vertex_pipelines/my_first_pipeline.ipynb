{
 "cells": [
  {
   "cell_type": "markdown",
   "id": "8f1827d0-08fc-4595-a772-ba672b4f9c47",
   "metadata": {},
   "source": [
    "This notebook is an example of how to break down a process into functions ready to be inserted into components. See Documentation for more information on this process\n",
    "\n",
    "* This notebooks showcases a very simple ETL, loading a table in BQ, adding column with a constant value and saving the table in BQ.\n",
    "* Each step of the notebook (Load data, Transform data, Save data) is the equivalent of a component in a vertex pipelines. \n",
    "* The functions imported from vertex.lib  are the same than the ones used in vertex.\n"
   ]
  },
  {
   "cell_type": "markdown",
   "id": "c66461cb-f32c-43bd-9a1f-0f99c91e6e6d",
   "metadata": {},
   "source": [
    "# 0.Imports & Parameters"
   ]
  },
  {
   "cell_type": "code",
   "execution_count": 1,
   "id": "ac5aebfe-1558-4e34-a609-d1945cd62fb6",
   "metadata": {
    "tags": []
   },
   "outputs": [
    {
     "name": "stderr",
     "output_type": "stream",
     "text": [
      "/Users/antoineaubay/Documents/interne/template_vertex/vertex_template_env/lib/python3.9/site-packages/google/auth/_default.py:78: UserWarning: Your application has authenticated using end user credentials from Google Cloud SDK without a quota project. You might receive a \"quota exceeded\" or \"API not enabled\" error. See the following page for troubleshooting: https://cloud.google.com/docs/authentication/adc-troubleshooting/user-creds. \n",
      "  warnings.warn(_CLOUD_SDK_CREDENTIALS_WARNING)\n",
      "/Users/antoineaubay/Documents/interne/template_vertex/vertex_template_env/lib/python3.9/site-packages/google/auth/_default.py:78: UserWarning: Your application has authenticated using end user credentials from Google Cloud SDK without a quota project. You might receive a \"quota exceeded\" or \"API not enabled\" error. See the following page for troubleshooting: https://cloud.google.com/docs/authentication/adc-troubleshooting/user-creds. \n",
      "  warnings.warn(_CLOUD_SDK_CREDENTIALS_WARNING)\n",
      "/Users/antoineaubay/Documents/interne/template_vertex/vertex_template_env/lib/python3.9/site-packages/google/auth/_default.py:78: UserWarning: Your application has authenticated using end user credentials from Google Cloud SDK without a quota project. You might receive a \"quota exceeded\" or \"API not enabled\" error. See the following page for troubleshooting: https://cloud.google.com/docs/authentication/adc-troubleshooting/user-creds. \n",
      "  warnings.warn(_CLOUD_SDK_CREDENTIALS_WARNING)\n",
      "/Users/antoineaubay/Documents/interne/template_vertex/vertex_template_env/lib/python3.9/site-packages/google/auth/_default.py:78: UserWarning: Your application has authenticated using end user credentials from Google Cloud SDK without a quota project. You might receive a \"quota exceeded\" or \"API not enabled\" error. See the following page for troubleshooting: https://cloud.google.com/docs/authentication/adc-troubleshooting/user-creds. \n",
      "  warnings.warn(_CLOUD_SDK_CREDENTIALS_WARNING)\n"
     ]
    }
   ],
   "source": [
    "import sys \n",
    "import os\n",
    "\n",
    "sys.path.append(\"../..\")\n",
    "\n",
    "from vertex.lib.connectors.bigquery import load_data_bq, save_data_bq\n",
    "from vertex.lib.processors.transform_data import add_constant_column\n",
    "from vertex.lib.utils.config import load_config"
   ]
  },
  {
   "cell_type": "code",
   "execution_count": 2,
   "id": "8449d7d7-b0b2-4f50-9b63-85f3aeaa966f",
   "metadata": {
    "tags": []
   },
   "outputs": [],
   "source": [
    "PROJECT_ID = \"vertex-template-264a\""
   ]
  },
  {
   "cell_type": "code",
   "execution_count": 3,
   "id": "a9c1eff8-468b-4709-82ab-e5661bfcda0b",
   "metadata": {
    "tags": []
   },
   "outputs": [],
   "source": [
    "GCP_REGION = \"europe-west1\""
   ]
  },
  {
   "cell_type": "code",
   "execution_count": 4,
   "id": "f0d67f48-4342-438c-aa55-0236ec0d2ef1",
   "metadata": {
    "tags": []
   },
   "outputs": [],
   "source": [
    "SELECTED_CONFIGURATION = load_config(\"my_first_pipeline\", \"conf_1\")"
   ]
  },
  {
   "cell_type": "code",
   "execution_count": 5,
   "id": "f7554a04-50f8-4bba-b026-83444aafca2b",
   "metadata": {
    "tags": []
   },
   "outputs": [
    {
     "data": {
      "text/plain": [
       "{'INPUT_TABLE': 'test_vertex.test_input',\n",
       " 'OUTPUT_TABLE': 'test_vertex.output',\n",
       " 'NEW_COLUMN_NAME': 'new_column',\n",
       " 'NEW_COLUMN_VALUE': 'The configuration 1 value'}"
      ]
     },
     "execution_count": 5,
     "metadata": {},
     "output_type": "execute_result"
    }
   ],
   "source": [
    "SELECTED_CONFIGURATION"
   ]
  },
  {
   "cell_type": "code",
   "execution_count": 6,
   "id": "965bf422-db28-4511-9295-b794532a5f70",
   "metadata": {
    "tags": []
   },
   "outputs": [],
   "source": [
    "INPUT_TABLE = SELECTED_CONFIGURATION[\"INPUT_TABLE\"]\n",
    "OUTPUT_TABLE = SELECTED_CONFIGURATION[\"OUTPUT_TABLE\"]\n",
    "NEW_COLUMN_NAME = SELECTED_CONFIGURATION[\"NEW_COLUMN_NAME\"]\n",
    "NEW_COLUMN_VALUE = SELECTED_CONFIGURATION[\"NEW_COLUMN_VALUE\"]"
   ]
  },
  {
   "cell_type": "markdown",
   "id": "c8560b32-63fa-47c8-aa2c-092c13ec2a85",
   "metadata": {},
   "source": [
    "# 1. Load data "
   ]
  },
  {
   "cell_type": "markdown",
   "id": "33352ad2-6d38-43f6-aaba-77dfff76c1ec",
   "metadata": {},
   "source": [
    "Loading table from BQ INPUT_TABLE"
   ]
  },
  {
   "cell_type": "code",
   "execution_count": 7,
   "id": "c609cbd6-d00c-4a75-94cc-1a41fd81f2e1",
   "metadata": {
    "tags": []
   },
   "outputs": [
    {
     "data": {
      "text/plain": [
       "'test_vertex.test_input'"
      ]
     },
     "execution_count": 7,
     "metadata": {},
     "output_type": "execute_result"
    }
   ],
   "source": [
    "INPUT_TABLE"
   ]
  },
  {
   "cell_type": "code",
   "execution_count": 8,
   "id": "15d8487d-f1f0-4d18-b86c-39839308a713",
   "metadata": {
    "tags": []
   },
   "outputs": [
    {
     "name": "stderr",
     "output_type": "stream",
     "text": [
      "/Users/antoineaubay/Documents/interne/template_vertex/vertex_template_env/lib/python3.9/site-packages/google/auth/_default.py:78: UserWarning: Your application has authenticated using end user credentials from Google Cloud SDK without a quota project. You might receive a \"quota exceeded\" or \"API not enabled\" error. See the following page for troubleshooting: https://cloud.google.com/docs/authentication/adc-troubleshooting/user-creds. \n",
      "  warnings.warn(_CLOUD_SDK_CREDENTIALS_WARNING)\n"
     ]
    }
   ],
   "source": [
    "df = load_data_bq(PROJECT_ID, GCP_REGION, INPUT_TABLE)"
   ]
  },
  {
   "cell_type": "code",
   "execution_count": 9,
   "id": "dd88877c-3783-44b3-b896-2dba343a56f7",
   "metadata": {
    "tags": []
   },
   "outputs": [
    {
     "data": {
      "text/html": [
       "<div>\n",
       "<style scoped>\n",
       "    .dataframe tbody tr th:only-of-type {\n",
       "        vertical-align: middle;\n",
       "    }\n",
       "\n",
       "    .dataframe tbody tr th {\n",
       "        vertical-align: top;\n",
       "    }\n",
       "\n",
       "    .dataframe thead th {\n",
       "        text-align: right;\n",
       "    }\n",
       "</style>\n",
       "<table border=\"1\" class=\"dataframe\">\n",
       "  <thead>\n",
       "    <tr style=\"text-align: right;\">\n",
       "      <th></th>\n",
       "      <th>string_field_0</th>\n",
       "      <th>string_field_1</th>\n",
       "    </tr>\n",
       "  </thead>\n",
       "  <tbody>\n",
       "    <tr>\n",
       "      <th>0</th>\n",
       "      <td>this</td>\n",
       "      <td>this</td>\n",
       "    </tr>\n",
       "    <tr>\n",
       "      <th>1</th>\n",
       "      <td>is</td>\n",
       "      <td>is</td>\n",
       "    </tr>\n",
       "    <tr>\n",
       "      <th>2</th>\n",
       "      <td>a</td>\n",
       "      <td>another</td>\n",
       "    </tr>\n",
       "    <tr>\n",
       "      <th>3</th>\n",
       "      <td>string</td>\n",
       "      <td>string</td>\n",
       "    </tr>\n",
       "    <tr>\n",
       "      <th>4</th>\n",
       "      <td>column</td>\n",
       "      <td>column</td>\n",
       "    </tr>\n",
       "  </tbody>\n",
       "</table>\n",
       "</div>"
      ],
      "text/plain": [
       "  string_field_0 string_field_1\n",
       "0          this           this \n",
       "1            is             is \n",
       "2             a         another\n",
       "3         string         string\n",
       "4         column         column"
      ]
     },
     "execution_count": 9,
     "metadata": {},
     "output_type": "execute_result"
    }
   ],
   "source": [
    "df.head()"
   ]
  },
  {
   "cell_type": "markdown",
   "id": "a5cfb2a2-606c-4405-afaa-52729f7a9a73",
   "metadata": {},
   "source": [
    "# 2. Transform data "
   ]
  },
  {
   "cell_type": "markdown",
   "id": "9b8afb2e-e700-4612-95d5-4298a70b8345",
   "metadata": {},
   "source": [
    "Adding a column with constant value "
   ]
  },
  {
   "cell_type": "code",
   "execution_count": 10,
   "id": "c6da9a5f-e4ae-446f-9fe0-9a258ca7d8b2",
   "metadata": {
    "tags": []
   },
   "outputs": [],
   "source": [
    "df_transformed = add_constant_column(df, NEW_COLUMN_NAME, NEW_COLUMN_VALUE)  "
   ]
  },
  {
   "cell_type": "code",
   "execution_count": 11,
   "id": "5588eb6a-7808-4b59-be12-22691a420a1d",
   "metadata": {
    "tags": []
   },
   "outputs": [
    {
     "data": {
      "text/html": [
       "<div>\n",
       "<style scoped>\n",
       "    .dataframe tbody tr th:only-of-type {\n",
       "        vertical-align: middle;\n",
       "    }\n",
       "\n",
       "    .dataframe tbody tr th {\n",
       "        vertical-align: top;\n",
       "    }\n",
       "\n",
       "    .dataframe thead th {\n",
       "        text-align: right;\n",
       "    }\n",
       "</style>\n",
       "<table border=\"1\" class=\"dataframe\">\n",
       "  <thead>\n",
       "    <tr style=\"text-align: right;\">\n",
       "      <th></th>\n",
       "      <th>string_field_0</th>\n",
       "      <th>string_field_1</th>\n",
       "      <th>new_column</th>\n",
       "    </tr>\n",
       "  </thead>\n",
       "  <tbody>\n",
       "    <tr>\n",
       "      <th>0</th>\n",
       "      <td>this</td>\n",
       "      <td>this</td>\n",
       "      <td>The configuration 1 value</td>\n",
       "    </tr>\n",
       "    <tr>\n",
       "      <th>1</th>\n",
       "      <td>is</td>\n",
       "      <td>is</td>\n",
       "      <td>The configuration 1 value</td>\n",
       "    </tr>\n",
       "    <tr>\n",
       "      <th>2</th>\n",
       "      <td>a</td>\n",
       "      <td>another</td>\n",
       "      <td>The configuration 1 value</td>\n",
       "    </tr>\n",
       "    <tr>\n",
       "      <th>3</th>\n",
       "      <td>string</td>\n",
       "      <td>string</td>\n",
       "      <td>The configuration 1 value</td>\n",
       "    </tr>\n",
       "    <tr>\n",
       "      <th>4</th>\n",
       "      <td>column</td>\n",
       "      <td>column</td>\n",
       "      <td>The configuration 1 value</td>\n",
       "    </tr>\n",
       "  </tbody>\n",
       "</table>\n",
       "</div>"
      ],
      "text/plain": [
       "  string_field_0 string_field_1                 new_column\n",
       "0          this           this   The configuration 1 value\n",
       "1            is             is   The configuration 1 value\n",
       "2             a         another  The configuration 1 value\n",
       "3         string         string  The configuration 1 value\n",
       "4         column         column  The configuration 1 value"
      ]
     },
     "execution_count": 11,
     "metadata": {},
     "output_type": "execute_result"
    }
   ],
   "source": [
    "df_transformed.head()"
   ]
  },
  {
   "cell_type": "markdown",
   "id": "fd9bbc5d-fb66-4cfc-9fea-4336b559f93d",
   "metadata": {},
   "source": [
    "# 3. Save data "
   ]
  },
  {
   "cell_type": "markdown",
   "id": "3cfd1c37-df72-4956-b547-c9a9cfc89dfa",
   "metadata": {},
   "source": [
    "Saving data in BQ OUPUT_TABLE"
   ]
  },
  {
   "cell_type": "code",
   "execution_count": 12,
   "id": "006066d9-c3c7-4bb6-822c-190d8e68c589",
   "metadata": {
    "tags": []
   },
   "outputs": [
    {
     "name": "stderr",
     "output_type": "stream",
     "text": [
      "/Users/antoineaubay/Documents/interne/template_vertex/vertex_template_env/lib/python3.9/site-packages/google/auth/_default.py:78: UserWarning: Your application has authenticated using end user credentials from Google Cloud SDK without a quota project. You might receive a \"quota exceeded\" or \"API not enabled\" error. See the following page for troubleshooting: https://cloud.google.com/docs/authentication/adc-troubleshooting/user-creds. \n",
      "  warnings.warn(_CLOUD_SDK_CREDENTIALS_WARNING)\n",
      "Failed to submit 1 logs.\n",
      "Traceback (most recent call last):\n",
      "  File \"/Users/antoineaubay/Documents/interne/template_vertex/vertex_template_env/lib/python3.9/site-packages/google/api_core/grpc_helpers.py\", line 72, in error_remapped_callable\n",
      "    return callable_(*args, **kwargs)\n",
      "  File \"/Users/antoineaubay/Documents/interne/template_vertex/vertex_template_env/lib/python3.9/site-packages/grpc/_channel.py\", line 1030, in __call__\n",
      "    return _end_unary_response_blocking(state, call, False, None)\n",
      "  File \"/Users/antoineaubay/Documents/interne/template_vertex/vertex_template_env/lib/python3.9/site-packages/grpc/_channel.py\", line 910, in _end_unary_response_blocking\n",
      "    raise _InactiveRpcError(state)  # pytype: disable=not-instantiable\n",
      "grpc._channel._InactiveRpcError: <_InactiveRpcError of RPC that terminated with:\n",
      "\tstatus = StatusCode.PERMISSION_DENIED\n",
      "\tdetails = \"Permission 'logging.logEntries.create' denied on resource (or it may not exist).\"\n",
      "\tdebug_error_string = \"UNKNOWN:Error received from peer ipv6:%5B2001:4860:4802:34::174%5D:443 {grpc_message:\"Permission \\'logging.logEntries.create\\' denied on resource (or it may not exist).\", grpc_status:7, created_time:\"2023-04-21T16:05:11.706747+02:00\"}\"\n",
      ">\n",
      "\n",
      "The above exception was the direct cause of the following exception:\n",
      "\n",
      "Traceback (most recent call last):\n",
      "  File \"/Users/antoineaubay/Documents/interne/template_vertex/vertex_template_env/lib/python3.9/site-packages/google/cloud/logging_v2/handlers/transports/background_thread.py\", line 115, in _safely_commit_batch\n",
      "    batch.commit()\n",
      "  File \"/Users/antoineaubay/Documents/interne/template_vertex/vertex_template_env/lib/python3.9/site-packages/google/cloud/logging_v2/logger.py\", line 467, in commit\n",
      "    client.logging_api.write_entries(\n",
      "  File \"/Users/antoineaubay/Documents/interne/template_vertex/vertex_template_env/lib/python3.9/site-packages/google/cloud/logging_v2/_gapic.py\", line 163, in write_entries\n",
      "    self._gapic_api.write_log_entries(request=request)\n",
      "  File \"/Users/antoineaubay/Documents/interne/template_vertex/vertex_template_env/lib/python3.9/site-packages/google/cloud/logging_v2/services/logging_service_v2/client.py\", line 726, in write_log_entries\n",
      "    response = rpc(\n",
      "  File \"/Users/antoineaubay/Documents/interne/template_vertex/vertex_template_env/lib/python3.9/site-packages/google/api_core/gapic_v1/method.py\", line 113, in __call__\n",
      "    return wrapped_func(*args, **kwargs)\n",
      "  File \"/Users/antoineaubay/Documents/interne/template_vertex/vertex_template_env/lib/python3.9/site-packages/google/api_core/retry.py\", line 349, in retry_wrapped_func\n",
      "    return retry_target(\n",
      "  File \"/Users/antoineaubay/Documents/interne/template_vertex/vertex_template_env/lib/python3.9/site-packages/google/api_core/retry.py\", line 191, in retry_target\n",
      "    return target()\n",
      "  File \"/Users/antoineaubay/Documents/interne/template_vertex/vertex_template_env/lib/python3.9/site-packages/google/api_core/timeout.py\", line 120, in func_with_timeout\n",
      "    return func(*args, **kwargs)\n",
      "  File \"/Users/antoineaubay/Documents/interne/template_vertex/vertex_template_env/lib/python3.9/site-packages/google/api_core/grpc_helpers.py\", line 74, in error_remapped_callable\n",
      "    raise exceptions.from_grpc_error(exc) from exc\n",
      "google.api_core.exceptions.PermissionDenied: 403 Permission 'logging.logEntries.create' denied on resource (or it may not exist). [reason: \"IAM_PERMISSION_DENIED\"\n",
      "domain: \"iam.googleapis.com\"\n",
      "metadata {\n",
      "  key: \"permission\"\n",
      "  value: \"logging.logEntries.create\"\n",
      "}\n",
      ", type_url: \"type.googleapis.com/google.logging.v2.WriteLogEntriesPartialErrors\"\n",
      "value: \"\\nX\\010\\000\\022T\\010\\007\\022PPermission \\'logging.logEntries.create\\' denied on resource (or it may not exist).\"\n",
      "]\n",
      "Failed to submit 1 logs.\n",
      "Traceback (most recent call last):\n",
      "  File \"/Users/antoineaubay/Documents/interne/template_vertex/vertex_template_env/lib/python3.9/site-packages/google/api_core/grpc_helpers.py\", line 72, in error_remapped_callable\n",
      "    return callable_(*args, **kwargs)\n",
      "  File \"/Users/antoineaubay/Documents/interne/template_vertex/vertex_template_env/lib/python3.9/site-packages/grpc/_channel.py\", line 1030, in __call__\n",
      "    return _end_unary_response_blocking(state, call, False, None)\n",
      "  File \"/Users/antoineaubay/Documents/interne/template_vertex/vertex_template_env/lib/python3.9/site-packages/grpc/_channel.py\", line 910, in _end_unary_response_blocking\n",
      "    raise _InactiveRpcError(state)  # pytype: disable=not-instantiable\n",
      "grpc._channel._InactiveRpcError: <_InactiveRpcError of RPC that terminated with:\n",
      "\tstatus = StatusCode.PERMISSION_DENIED\n",
      "\tdetails = \"Permission 'logging.logEntries.create' denied on resource (or it may not exist).\"\n",
      "\tdebug_error_string = \"UNKNOWN:Error received from peer ipv6:%5B2001:4860:4802:34::174%5D:443 {created_time:\"2023-04-21T16:05:11.733307+02:00\", grpc_status:7, grpc_message:\"Permission \\'logging.logEntries.create\\' denied on resource (or it may not exist).\"}\"\n",
      ">\n",
      "\n",
      "The above exception was the direct cause of the following exception:\n",
      "\n",
      "Traceback (most recent call last):\n",
      "  File \"/Users/antoineaubay/Documents/interne/template_vertex/vertex_template_env/lib/python3.9/site-packages/google/cloud/logging_v2/handlers/transports/background_thread.py\", line 115, in _safely_commit_batch\n",
      "    batch.commit()\n",
      "  File \"/Users/antoineaubay/Documents/interne/template_vertex/vertex_template_env/lib/python3.9/site-packages/google/cloud/logging_v2/logger.py\", line 467, in commit\n",
      "    client.logging_api.write_entries(\n",
      "  File \"/Users/antoineaubay/Documents/interne/template_vertex/vertex_template_env/lib/python3.9/site-packages/google/cloud/logging_v2/_gapic.py\", line 163, in write_entries\n",
      "    self._gapic_api.write_log_entries(request=request)\n",
      "  File \"/Users/antoineaubay/Documents/interne/template_vertex/vertex_template_env/lib/python3.9/site-packages/google/cloud/logging_v2/services/logging_service_v2/client.py\", line 726, in write_log_entries\n",
      "    response = rpc(\n",
      "  File \"/Users/antoineaubay/Documents/interne/template_vertex/vertex_template_env/lib/python3.9/site-packages/google/api_core/gapic_v1/method.py\", line 113, in __call__\n",
      "    return wrapped_func(*args, **kwargs)\n",
      "  File \"/Users/antoineaubay/Documents/interne/template_vertex/vertex_template_env/lib/python3.9/site-packages/google/api_core/retry.py\", line 349, in retry_wrapped_func\n",
      "    return retry_target(\n",
      "  File \"/Users/antoineaubay/Documents/interne/template_vertex/vertex_template_env/lib/python3.9/site-packages/google/api_core/retry.py\", line 191, in retry_target\n",
      "    return target()\n",
      "  File \"/Users/antoineaubay/Documents/interne/template_vertex/vertex_template_env/lib/python3.9/site-packages/google/api_core/timeout.py\", line 120, in func_with_timeout\n",
      "    return func(*args, **kwargs)\n",
      "  File \"/Users/antoineaubay/Documents/interne/template_vertex/vertex_template_env/lib/python3.9/site-packages/google/api_core/grpc_helpers.py\", line 74, in error_remapped_callable\n",
      "    raise exceptions.from_grpc_error(exc) from exc\n",
      "google.api_core.exceptions.PermissionDenied: 403 Permission 'logging.logEntries.create' denied on resource (or it may not exist). [reason: \"IAM_PERMISSION_DENIED\"\n",
      "domain: \"iam.googleapis.com\"\n",
      "metadata {\n",
      "  key: \"permission\"\n",
      "  value: \"logging.logEntries.create\"\n",
      "}\n",
      ", type_url: \"type.googleapis.com/google.logging.v2.WriteLogEntriesPartialErrors\"\n",
      "value: \"\\nX\\010\\000\\022T\\010\\007\\022PPermission \\'logging.logEntries.create\\' denied on resource (or it may not exist).\"\n",
      "]\n",
      "Failed to submit 1 logs.\n",
      "Traceback (most recent call last):\n",
      "  File \"/Users/antoineaubay/Documents/interne/template_vertex/vertex_template_env/lib/python3.9/site-packages/google/api_core/grpc_helpers.py\", line 72, in error_remapped_callable\n",
      "    return callable_(*args, **kwargs)\n",
      "  File \"/Users/antoineaubay/Documents/interne/template_vertex/vertex_template_env/lib/python3.9/site-packages/grpc/_channel.py\", line 1030, in __call__\n",
      "    return _end_unary_response_blocking(state, call, False, None)\n",
      "  File \"/Users/antoineaubay/Documents/interne/template_vertex/vertex_template_env/lib/python3.9/site-packages/grpc/_channel.py\", line 910, in _end_unary_response_blocking\n",
      "    raise _InactiveRpcError(state)  # pytype: disable=not-instantiable\n",
      "grpc._channel._InactiveRpcError: <_InactiveRpcError of RPC that terminated with:\n",
      "\tstatus = StatusCode.PERMISSION_DENIED\n",
      "\tdetails = \"Permission 'logging.logEntries.create' denied on resource (or it may not exist).\"\n",
      "\tdebug_error_string = \"UNKNOWN:Error received from peer ipv6:%5B2001:4860:4802:34::174%5D:443 {created_time:\"2023-04-21T16:05:11.931702+02:00\", grpc_status:7, grpc_message:\"Permission \\'logging.logEntries.create\\' denied on resource (or it may not exist).\"}\"\n",
      ">\n",
      "\n",
      "The above exception was the direct cause of the following exception:\n",
      "\n",
      "Traceback (most recent call last):\n",
      "  File \"/Users/antoineaubay/Documents/interne/template_vertex/vertex_template_env/lib/python3.9/site-packages/google/cloud/logging_v2/handlers/transports/background_thread.py\", line 115, in _safely_commit_batch\n",
      "    batch.commit()\n",
      "  File \"/Users/antoineaubay/Documents/interne/template_vertex/vertex_template_env/lib/python3.9/site-packages/google/cloud/logging_v2/logger.py\", line 467, in commit\n",
      "    client.logging_api.write_entries(\n",
      "  File \"/Users/antoineaubay/Documents/interne/template_vertex/vertex_template_env/lib/python3.9/site-packages/google/cloud/logging_v2/_gapic.py\", line 163, in write_entries\n",
      "    self._gapic_api.write_log_entries(request=request)\n",
      "  File \"/Users/antoineaubay/Documents/interne/template_vertex/vertex_template_env/lib/python3.9/site-packages/google/cloud/logging_v2/services/logging_service_v2/client.py\", line 726, in write_log_entries\n",
      "    response = rpc(\n",
      "  File \"/Users/antoineaubay/Documents/interne/template_vertex/vertex_template_env/lib/python3.9/site-packages/google/api_core/gapic_v1/method.py\", line 113, in __call__\n",
      "    return wrapped_func(*args, **kwargs)\n",
      "  File \"/Users/antoineaubay/Documents/interne/template_vertex/vertex_template_env/lib/python3.9/site-packages/google/api_core/retry.py\", line 349, in retry_wrapped_func\n",
      "    return retry_target(\n",
      "  File \"/Users/antoineaubay/Documents/interne/template_vertex/vertex_template_env/lib/python3.9/site-packages/google/api_core/retry.py\", line 191, in retry_target\n",
      "    return target()\n",
      "  File \"/Users/antoineaubay/Documents/interne/template_vertex/vertex_template_env/lib/python3.9/site-packages/google/api_core/timeout.py\", line 120, in func_with_timeout\n",
      "    return func(*args, **kwargs)\n",
      "  File \"/Users/antoineaubay/Documents/interne/template_vertex/vertex_template_env/lib/python3.9/site-packages/google/api_core/grpc_helpers.py\", line 74, in error_remapped_callable\n",
      "    raise exceptions.from_grpc_error(exc) from exc\n",
      "google.api_core.exceptions.PermissionDenied: 403 Permission 'logging.logEntries.create' denied on resource (or it may not exist). [reason: \"IAM_PERMISSION_DENIED\"\n",
      "domain: \"iam.googleapis.com\"\n",
      "metadata {\n",
      "  key: \"permission\"\n",
      "  value: \"logging.logEntries.create\"\n",
      "}\n",
      ", type_url: \"type.googleapis.com/google.logging.v2.WriteLogEntriesPartialErrors\"\n",
      "value: \"\\nX\\010\\000\\022T\\010\\007\\022PPermission \\'logging.logEntries.create\\' denied on resource (or it may not exist).\"\n",
      "]\n",
      "Failed to submit 1 logs.\n",
      "Traceback (most recent call last):\n",
      "  File \"/Users/antoineaubay/Documents/interne/template_vertex/vertex_template_env/lib/python3.9/site-packages/google/api_core/grpc_helpers.py\", line 72, in error_remapped_callable\n",
      "    return callable_(*args, **kwargs)\n",
      "  File \"/Users/antoineaubay/Documents/interne/template_vertex/vertex_template_env/lib/python3.9/site-packages/grpc/_channel.py\", line 1030, in __call__\n",
      "    return _end_unary_response_blocking(state, call, False, None)\n",
      "  File \"/Users/antoineaubay/Documents/interne/template_vertex/vertex_template_env/lib/python3.9/site-packages/grpc/_channel.py\", line 910, in _end_unary_response_blocking\n",
      "    raise _InactiveRpcError(state)  # pytype: disable=not-instantiable\n",
      "grpc._channel._InactiveRpcError: <_InactiveRpcError of RPC that terminated with:\n",
      "\tstatus = StatusCode.PERMISSION_DENIED\n",
      "\tdetails = \"Permission 'logging.logEntries.create' denied on resource (or it may not exist).\"\n",
      "\tdebug_error_string = \"UNKNOWN:Error received from peer ipv6:%5B2001:4860:4802:34::174%5D:443 {created_time:\"2023-04-21T16:05:11.932649+02:00\", grpc_status:7, grpc_message:\"Permission \\'logging.logEntries.create\\' denied on resource (or it may not exist).\"}\"\n",
      ">\n",
      "\n",
      "The above exception was the direct cause of the following exception:\n",
      "\n",
      "Traceback (most recent call last):\n",
      "  File \"/Users/antoineaubay/Documents/interne/template_vertex/vertex_template_env/lib/python3.9/site-packages/google/cloud/logging_v2/handlers/transports/background_thread.py\", line 115, in _safely_commit_batch\n",
      "    batch.commit()\n",
      "  File \"/Users/antoineaubay/Documents/interne/template_vertex/vertex_template_env/lib/python3.9/site-packages/google/cloud/logging_v2/logger.py\", line 467, in commit\n",
      "    client.logging_api.write_entries(\n",
      "  File \"/Users/antoineaubay/Documents/interne/template_vertex/vertex_template_env/lib/python3.9/site-packages/google/cloud/logging_v2/_gapic.py\", line 163, in write_entries\n",
      "    self._gapic_api.write_log_entries(request=request)\n",
      "  File \"/Users/antoineaubay/Documents/interne/template_vertex/vertex_template_env/lib/python3.9/site-packages/google/cloud/logging_v2/services/logging_service_v2/client.py\", line 726, in write_log_entries\n",
      "    response = rpc(\n",
      "  File \"/Users/antoineaubay/Documents/interne/template_vertex/vertex_template_env/lib/python3.9/site-packages/google/api_core/gapic_v1/method.py\", line 113, in __call__\n",
      "    return wrapped_func(*args, **kwargs)\n",
      "  File \"/Users/antoineaubay/Documents/interne/template_vertex/vertex_template_env/lib/python3.9/site-packages/google/api_core/retry.py\", line 349, in retry_wrapped_func\n",
      "    return retry_target(\n",
      "  File \"/Users/antoineaubay/Documents/interne/template_vertex/vertex_template_env/lib/python3.9/site-packages/google/api_core/retry.py\", line 191, in retry_target\n",
      "    return target()\n",
      "  File \"/Users/antoineaubay/Documents/interne/template_vertex/vertex_template_env/lib/python3.9/site-packages/google/api_core/timeout.py\", line 120, in func_with_timeout\n",
      "    return func(*args, **kwargs)\n",
      "  File \"/Users/antoineaubay/Documents/interne/template_vertex/vertex_template_env/lib/python3.9/site-packages/google/api_core/grpc_helpers.py\", line 74, in error_remapped_callable\n",
      "    raise exceptions.from_grpc_error(exc) from exc\n",
      "google.api_core.exceptions.PermissionDenied: 403 Permission 'logging.logEntries.create' denied on resource (or it may not exist). [reason: \"IAM_PERMISSION_DENIED\"\n",
      "domain: \"iam.googleapis.com\"\n",
      "metadata {\n",
      "  key: \"permission\"\n",
      "  value: \"logging.logEntries.create\"\n",
      "}\n",
      ", type_url: \"type.googleapis.com/google.logging.v2.WriteLogEntriesPartialErrors\"\n",
      "value: \"\\nX\\010\\000\\022T\\010\\007\\022PPermission \\'logging.logEntries.create\\' denied on resource (or it may not exist).\"\n",
      "]\n",
      "Failed to submit 1 logs.\n",
      "Traceback (most recent call last):\n",
      "  File \"/Users/antoineaubay/Documents/interne/template_vertex/vertex_template_env/lib/python3.9/site-packages/google/api_core/grpc_helpers.py\", line 72, in error_remapped_callable\n",
      "    return callable_(*args, **kwargs)\n",
      "  File \"/Users/antoineaubay/Documents/interne/template_vertex/vertex_template_env/lib/python3.9/site-packages/grpc/_channel.py\", line 1030, in __call__\n",
      "    return _end_unary_response_blocking(state, call, False, None)\n",
      "  File \"/Users/antoineaubay/Documents/interne/template_vertex/vertex_template_env/lib/python3.9/site-packages/grpc/_channel.py\", line 910, in _end_unary_response_blocking\n",
      "    raise _InactiveRpcError(state)  # pytype: disable=not-instantiable\n",
      "grpc._channel._InactiveRpcError: <_InactiveRpcError of RPC that terminated with:\n",
      "\tstatus = StatusCode.PERMISSION_DENIED\n",
      "\tdetails = \"Permission 'logging.logEntries.create' denied on resource (or it may not exist).\"\n",
      "\tdebug_error_string = \"UNKNOWN:Error received from peer ipv6:%5B2001:4860:4802:34::174%5D:443 {created_time:\"2023-04-21T16:05:12.806408+02:00\", grpc_status:7, grpc_message:\"Permission \\'logging.logEntries.create\\' denied on resource (or it may not exist).\"}\"\n",
      ">\n",
      "\n",
      "The above exception was the direct cause of the following exception:\n",
      "\n",
      "Traceback (most recent call last):\n",
      "  File \"/Users/antoineaubay/Documents/interne/template_vertex/vertex_template_env/lib/python3.9/site-packages/google/cloud/logging_v2/handlers/transports/background_thread.py\", line 115, in _safely_commit_batch\n",
      "    batch.commit()\n",
      "  File \"/Users/antoineaubay/Documents/interne/template_vertex/vertex_template_env/lib/python3.9/site-packages/google/cloud/logging_v2/logger.py\", line 467, in commit\n",
      "    client.logging_api.write_entries(\n",
      "  File \"/Users/antoineaubay/Documents/interne/template_vertex/vertex_template_env/lib/python3.9/site-packages/google/cloud/logging_v2/_gapic.py\", line 163, in write_entries\n",
      "    self._gapic_api.write_log_entries(request=request)\n",
      "  File \"/Users/antoineaubay/Documents/interne/template_vertex/vertex_template_env/lib/python3.9/site-packages/google/cloud/logging_v2/services/logging_service_v2/client.py\", line 726, in write_log_entries\n",
      "    response = rpc(\n",
      "  File \"/Users/antoineaubay/Documents/interne/template_vertex/vertex_template_env/lib/python3.9/site-packages/google/api_core/gapic_v1/method.py\", line 113, in __call__\n",
      "    return wrapped_func(*args, **kwargs)\n",
      "  File \"/Users/antoineaubay/Documents/interne/template_vertex/vertex_template_env/lib/python3.9/site-packages/google/api_core/retry.py\", line 349, in retry_wrapped_func\n",
      "    return retry_target(\n",
      "  File \"/Users/antoineaubay/Documents/interne/template_vertex/vertex_template_env/lib/python3.9/site-packages/google/api_core/retry.py\", line 191, in retry_target\n",
      "    return target()\n",
      "  File \"/Users/antoineaubay/Documents/interne/template_vertex/vertex_template_env/lib/python3.9/site-packages/google/api_core/timeout.py\", line 120, in func_with_timeout\n",
      "    return func(*args, **kwargs)\n",
      "  File \"/Users/antoineaubay/Documents/interne/template_vertex/vertex_template_env/lib/python3.9/site-packages/google/api_core/grpc_helpers.py\", line 74, in error_remapped_callable\n",
      "    raise exceptions.from_grpc_error(exc) from exc\n",
      "google.api_core.exceptions.PermissionDenied: 403 Permission 'logging.logEntries.create' denied on resource (or it may not exist). [reason: \"IAM_PERMISSION_DENIED\"\n",
      "domain: \"iam.googleapis.com\"\n",
      "metadata {\n",
      "  key: \"permission\"\n",
      "  value: \"logging.logEntries.create\"\n",
      "}\n",
      ", type_url: \"type.googleapis.com/google.logging.v2.WriteLogEntriesPartialErrors\"\n",
      "value: \"\\nX\\010\\000\\022T\\010\\007\\022PPermission \\'logging.logEntries.create\\' denied on resource (or it may not exist).\"\n",
      "]\n",
      "Failed to submit 1 logs.\n",
      "Traceback (most recent call last):\n",
      "  File \"/Users/antoineaubay/Documents/interne/template_vertex/vertex_template_env/lib/python3.9/site-packages/google/api_core/grpc_helpers.py\", line 72, in error_remapped_callable\n",
      "    return callable_(*args, **kwargs)\n",
      "  File \"/Users/antoineaubay/Documents/interne/template_vertex/vertex_template_env/lib/python3.9/site-packages/grpc/_channel.py\", line 1030, in __call__\n",
      "    return _end_unary_response_blocking(state, call, False, None)\n",
      "  File \"/Users/antoineaubay/Documents/interne/template_vertex/vertex_template_env/lib/python3.9/site-packages/grpc/_channel.py\", line 910, in _end_unary_response_blocking\n",
      "    raise _InactiveRpcError(state)  # pytype: disable=not-instantiable\n",
      "grpc._channel._InactiveRpcError: <_InactiveRpcError of RPC that terminated with:\n",
      "\tstatus = StatusCode.PERMISSION_DENIED\n",
      "\tdetails = \"Permission 'logging.logEntries.create' denied on resource (or it may not exist).\"\n",
      "\tdebug_error_string = \"UNKNOWN:Error received from peer ipv6:%5B2001:4860:4802:34::174%5D:443 {created_time:\"2023-04-21T16:05:12.838427+02:00\", grpc_status:7, grpc_message:\"Permission \\'logging.logEntries.create\\' denied on resource (or it may not exist).\"}\"\n",
      ">\n",
      "\n",
      "The above exception was the direct cause of the following exception:\n",
      "\n",
      "Traceback (most recent call last):\n",
      "  File \"/Users/antoineaubay/Documents/interne/template_vertex/vertex_template_env/lib/python3.9/site-packages/google/cloud/logging_v2/handlers/transports/background_thread.py\", line 115, in _safely_commit_batch\n",
      "    batch.commit()\n",
      "  File \"/Users/antoineaubay/Documents/interne/template_vertex/vertex_template_env/lib/python3.9/site-packages/google/cloud/logging_v2/logger.py\", line 467, in commit\n",
      "    client.logging_api.write_entries(\n",
      "  File \"/Users/antoineaubay/Documents/interne/template_vertex/vertex_template_env/lib/python3.9/site-packages/google/cloud/logging_v2/_gapic.py\", line 163, in write_entries\n",
      "    self._gapic_api.write_log_entries(request=request)\n",
      "  File \"/Users/antoineaubay/Documents/interne/template_vertex/vertex_template_env/lib/python3.9/site-packages/google/cloud/logging_v2/services/logging_service_v2/client.py\", line 726, in write_log_entries\n",
      "    response = rpc(\n",
      "  File \"/Users/antoineaubay/Documents/interne/template_vertex/vertex_template_env/lib/python3.9/site-packages/google/api_core/gapic_v1/method.py\", line 113, in __call__\n",
      "    return wrapped_func(*args, **kwargs)\n",
      "  File \"/Users/antoineaubay/Documents/interne/template_vertex/vertex_template_env/lib/python3.9/site-packages/google/api_core/retry.py\", line 349, in retry_wrapped_func\n",
      "    return retry_target(\n",
      "  File \"/Users/antoineaubay/Documents/interne/template_vertex/vertex_template_env/lib/python3.9/site-packages/google/api_core/retry.py\", line 191, in retry_target\n",
      "    return target()\n",
      "  File \"/Users/antoineaubay/Documents/interne/template_vertex/vertex_template_env/lib/python3.9/site-packages/google/api_core/timeout.py\", line 120, in func_with_timeout\n",
      "    return func(*args, **kwargs)\n",
      "  File \"/Users/antoineaubay/Documents/interne/template_vertex/vertex_template_env/lib/python3.9/site-packages/google/api_core/grpc_helpers.py\", line 74, in error_remapped_callable\n",
      "    raise exceptions.from_grpc_error(exc) from exc\n",
      "google.api_core.exceptions.PermissionDenied: 403 Permission 'logging.logEntries.create' denied on resource (or it may not exist). [reason: \"IAM_PERMISSION_DENIED\"\n",
      "domain: \"iam.googleapis.com\"\n",
      "metadata {\n",
      "  key: \"permission\"\n",
      "  value: \"logging.logEntries.create\"\n",
      "}\n",
      ", type_url: \"type.googleapis.com/google.logging.v2.WriteLogEntriesPartialErrors\"\n",
      "value: \"\\nX\\010\\000\\022T\\010\\007\\022PPermission \\'logging.logEntries.create\\' denied on resource (or it may not exist).\"\n",
      "]\n",
      "Failed to submit 1 logs.\n",
      "Traceback (most recent call last):\n",
      "  File \"/Users/antoineaubay/Documents/interne/template_vertex/vertex_template_env/lib/python3.9/site-packages/google/api_core/grpc_helpers.py\", line 72, in error_remapped_callable\n",
      "    return callable_(*args, **kwargs)\n",
      "  File \"/Users/antoineaubay/Documents/interne/template_vertex/vertex_template_env/lib/python3.9/site-packages/grpc/_channel.py\", line 1030, in __call__\n",
      "    return _end_unary_response_blocking(state, call, False, None)\n",
      "  File \"/Users/antoineaubay/Documents/interne/template_vertex/vertex_template_env/lib/python3.9/site-packages/grpc/_channel.py\", line 910, in _end_unary_response_blocking\n",
      "    raise _InactiveRpcError(state)  # pytype: disable=not-instantiable\n",
      "grpc._channel._InactiveRpcError: <_InactiveRpcError of RPC that terminated with:\n",
      "\tstatus = StatusCode.PERMISSION_DENIED\n",
      "\tdetails = \"Permission 'logging.logEntries.create' denied on resource (or it may not exist).\"\n",
      "\tdebug_error_string = \"UNKNOWN:Error received from peer ipv6:%5B2001:4860:4802:34::174%5D:443 {created_time:\"2023-04-21T16:05:15.620855+02:00\", grpc_status:7, grpc_message:\"Permission \\'logging.logEntries.create\\' denied on resource (or it may not exist).\"}\"\n",
      ">\n",
      "\n",
      "The above exception was the direct cause of the following exception:\n",
      "\n",
      "Traceback (most recent call last):\n",
      "  File \"/Users/antoineaubay/Documents/interne/template_vertex/vertex_template_env/lib/python3.9/site-packages/google/cloud/logging_v2/handlers/transports/background_thread.py\", line 115, in _safely_commit_batch\n",
      "    batch.commit()\n",
      "  File \"/Users/antoineaubay/Documents/interne/template_vertex/vertex_template_env/lib/python3.9/site-packages/google/cloud/logging_v2/logger.py\", line 467, in commit\n",
      "    client.logging_api.write_entries(\n",
      "  File \"/Users/antoineaubay/Documents/interne/template_vertex/vertex_template_env/lib/python3.9/site-packages/google/cloud/logging_v2/_gapic.py\", line 163, in write_entries\n",
      "    self._gapic_api.write_log_entries(request=request)\n",
      "  File \"/Users/antoineaubay/Documents/interne/template_vertex/vertex_template_env/lib/python3.9/site-packages/google/cloud/logging_v2/services/logging_service_v2/client.py\", line 726, in write_log_entries\n",
      "    response = rpc(\n",
      "  File \"/Users/antoineaubay/Documents/interne/template_vertex/vertex_template_env/lib/python3.9/site-packages/google/api_core/gapic_v1/method.py\", line 113, in __call__\n",
      "    return wrapped_func(*args, **kwargs)\n",
      "  File \"/Users/antoineaubay/Documents/interne/template_vertex/vertex_template_env/lib/python3.9/site-packages/google/api_core/retry.py\", line 349, in retry_wrapped_func\n",
      "    return retry_target(\n",
      "  File \"/Users/antoineaubay/Documents/interne/template_vertex/vertex_template_env/lib/python3.9/site-packages/google/api_core/retry.py\", line 191, in retry_target\n",
      "    return target()\n",
      "  File \"/Users/antoineaubay/Documents/interne/template_vertex/vertex_template_env/lib/python3.9/site-packages/google/api_core/timeout.py\", line 120, in func_with_timeout\n",
      "    return func(*args, **kwargs)\n",
      "  File \"/Users/antoineaubay/Documents/interne/template_vertex/vertex_template_env/lib/python3.9/site-packages/google/api_core/grpc_helpers.py\", line 74, in error_remapped_callable\n",
      "    raise exceptions.from_grpc_error(exc) from exc\n",
      "google.api_core.exceptions.PermissionDenied: 403 Permission 'logging.logEntries.create' denied on resource (or it may not exist). [reason: \"IAM_PERMISSION_DENIED\"\n",
      "domain: \"iam.googleapis.com\"\n",
      "metadata {\n",
      "  key: \"permission\"\n",
      "  value: \"logging.logEntries.create\"\n",
      "}\n",
      ", type_url: \"type.googleapis.com/google.logging.v2.WriteLogEntriesPartialErrors\"\n",
      "value: \"\\nX\\010\\000\\022T\\010\\007\\022PPermission \\'logging.logEntries.create\\' denied on resource (or it may not exist).\"\n",
      "]\n",
      "Failed to submit 1 logs.\n",
      "Traceback (most recent call last):\n",
      "  File \"/Users/antoineaubay/Documents/interne/template_vertex/vertex_template_env/lib/python3.9/site-packages/google/api_core/grpc_helpers.py\", line 72, in error_remapped_callable\n",
      "    return callable_(*args, **kwargs)\n",
      "  File \"/Users/antoineaubay/Documents/interne/template_vertex/vertex_template_env/lib/python3.9/site-packages/grpc/_channel.py\", line 1030, in __call__\n",
      "    return _end_unary_response_blocking(state, call, False, None)\n",
      "  File \"/Users/antoineaubay/Documents/interne/template_vertex/vertex_template_env/lib/python3.9/site-packages/grpc/_channel.py\", line 910, in _end_unary_response_blocking\n",
      "    raise _InactiveRpcError(state)  # pytype: disable=not-instantiable\n",
      "grpc._channel._InactiveRpcError: <_InactiveRpcError of RPC that terminated with:\n",
      "\tstatus = StatusCode.PERMISSION_DENIED\n",
      "\tdetails = \"Permission 'logging.logEntries.create' denied on resource (or it may not exist).\"\n",
      "\tdebug_error_string = \"UNKNOWN:Error received from peer ipv6:%5B2001:4860:4802:34::174%5D:443 {grpc_message:\"Permission \\'logging.logEntries.create\\' denied on resource (or it may not exist).\", grpc_status:7, created_time:\"2023-04-21T16:05:15.630083+02:00\"}\"\n",
      ">\n",
      "\n",
      "The above exception was the direct cause of the following exception:\n",
      "\n",
      "Traceback (most recent call last):\n",
      "  File \"/Users/antoineaubay/Documents/interne/template_vertex/vertex_template_env/lib/python3.9/site-packages/google/cloud/logging_v2/handlers/transports/background_thread.py\", line 115, in _safely_commit_batch\n",
      "    batch.commit()\n",
      "  File \"/Users/antoineaubay/Documents/interne/template_vertex/vertex_template_env/lib/python3.9/site-packages/google/cloud/logging_v2/logger.py\", line 467, in commit\n",
      "    client.logging_api.write_entries(\n",
      "  File \"/Users/antoineaubay/Documents/interne/template_vertex/vertex_template_env/lib/python3.9/site-packages/google/cloud/logging_v2/_gapic.py\", line 163, in write_entries\n",
      "    self._gapic_api.write_log_entries(request=request)\n",
      "  File \"/Users/antoineaubay/Documents/interne/template_vertex/vertex_template_env/lib/python3.9/site-packages/google/cloud/logging_v2/services/logging_service_v2/client.py\", line 726, in write_log_entries\n",
      "    response = rpc(\n",
      "  File \"/Users/antoineaubay/Documents/interne/template_vertex/vertex_template_env/lib/python3.9/site-packages/google/api_core/gapic_v1/method.py\", line 113, in __call__\n",
      "    return wrapped_func(*args, **kwargs)\n",
      "  File \"/Users/antoineaubay/Documents/interne/template_vertex/vertex_template_env/lib/python3.9/site-packages/google/api_core/retry.py\", line 349, in retry_wrapped_func\n",
      "    return retry_target(\n",
      "  File \"/Users/antoineaubay/Documents/interne/template_vertex/vertex_template_env/lib/python3.9/site-packages/google/api_core/retry.py\", line 191, in retry_target\n",
      "    return target()\n",
      "  File \"/Users/antoineaubay/Documents/interne/template_vertex/vertex_template_env/lib/python3.9/site-packages/google/api_core/timeout.py\", line 120, in func_with_timeout\n",
      "    return func(*args, **kwargs)\n",
      "  File \"/Users/antoineaubay/Documents/interne/template_vertex/vertex_template_env/lib/python3.9/site-packages/google/api_core/grpc_helpers.py\", line 74, in error_remapped_callable\n",
      "    raise exceptions.from_grpc_error(exc) from exc\n",
      "google.api_core.exceptions.PermissionDenied: 403 Permission 'logging.logEntries.create' denied on resource (or it may not exist). [reason: \"IAM_PERMISSION_DENIED\"\n",
      "domain: \"iam.googleapis.com\"\n",
      "metadata {\n",
      "  key: \"permission\"\n",
      "  value: \"logging.logEntries.create\"\n",
      "}\n",
      ", type_url: \"type.googleapis.com/google.logging.v2.WriteLogEntriesPartialErrors\"\n",
      "value: \"\\nX\\010\\000\\022T\\010\\007\\022PPermission \\'logging.logEntries.create\\' denied on resource (or it may not exist).\"\n",
      "]\n"
     ]
    }
   ],
   "source": [
    "save_data_bq(df_transformed, PROJECT_ID, OUTPUT_TABLE)"
   ]
  },
  {
   "cell_type": "code",
   "execution_count": null,
   "id": "e3f1d678-b1ee-4d95-909d-f04ac1d9e991",
   "metadata": {},
   "outputs": [],
   "source": []
  }
 ],
 "metadata": {
  "kernelspec": {
   "display_name": "vertex_starter_kit_env",
   "language": "python",
   "name": "vertex_starter_kit_env"
  },
  "language_info": {
   "codemirror_mode": {
    "name": "ipython",
    "version": 3
   },
   "file_extension": ".py",
   "mimetype": "text/x-python",
   "name": "python",
   "nbconvert_exporter": "python",
   "pygments_lexer": "ipython3",
   "version": "3.9.6"
  }
 },
 "nbformat": 4,
 "nbformat_minor": 5
}
